{
 "cells": [
  {
   "cell_type": "markdown",
   "id": "8524e7e5",
   "metadata": {},
   "source": [
    "### For an LambdaCDM Universe calculatiton of the a(t) vs t\n",
    "\n",
    "$\\frac{H^{2}}{H_{0}^{2}}=\\frac{\\Omega_{rad,0}}{a^{4}}+\\frac{\\Omega_{m,0}}{a^{3}}+\\frac{1-\\Omega_{m,0}-\\Omega_{\\Lambda,0}-\\Omega_{r,0}-\\Omega_{c,0}}{a^{2}}+\\Omega_{\\Lambda,0}+\\frac{\\Omega_{c}}{a^{2}}$ (Friedman Equation)\n",
    "\n",
    "$\\Omega_{c,0}$ omega para el compuesto dark curvature\n",
    "\n",
    "$H_{0}=67.810 \\; km/s/Mpc$"
   ]
  },
  {
   "cell_type": "code",
   "execution_count": 1,
   "id": "978d9d21",
   "metadata": {},
   "outputs": [],
   "source": [
    "## Constants\n",
    "H = 67.810 ## Hubble Constant = 71 km/s/Mpc\n",
    "Mpc = 3.085677581e+19 #kms\n",
    "km = 1.0\n",
    "Gyr= 3.1536e16 #seconds\n",
    "H0 = (H * Gyr * km / Mpc)"
   ]
  },
  {
   "cell_type": "code",
   "execution_count": 2,
   "id": "bc2776e2",
   "metadata": {},
   "outputs": [],
   "source": [
    "# import necessary modules\n",
    "# uncomment to get plots displayed in notebook\n",
    "%matplotlib inline\n",
    "import matplotlib\n",
    "import matplotlib.pyplot as plt\n",
    "import numpy as np\n",
    "from classy import Class\n",
    "from scipy.optimize import fsolve\n",
    "from scipy.interpolate import interp1d\n",
    "import math"
   ]
  },
  {
   "cell_type": "code",
   "execution_count": 3,
   "id": "3b0a64f6",
   "metadata": {},
   "outputs": [],
   "source": [
    "#definición del metodo del trapecio\n",
    "#def trapezoid(x, fx): \n",
    "#    eq = 0\n",
    "#    for i in range(len(x)-1):\n",
    "#        eq = eq + (((x[i-1]-x[i])*(fx[i]+fx[i+1]))/2.)\n",
    "#    return eq/H0"
   ]
  },
  {
   "cell_type": "markdown",
   "id": "c528eaac",
   "metadata": {},
   "source": [
    "### $\\Omega=\\Omega_{M}+\\Omega_{R}+\\Omega_{L}+\\Omega_{c}$\n",
    "### $t*H_{0} = \\frac{1}{\\sqrt{\\frac{\\Omega_{R}}{a^{2}}+\\frac{\\Omega_{M}}{a}+\\frac{\\Omega_{\\Lambda}}{a^{2}}+(1-\\Omega)+\\Omega_{c}}}$"
   ]
  },
  {
   "cell_type": "code",
   "execution_count": 4,
   "id": "173418fc",
   "metadata": {},
   "outputs": [],
   "source": [
    "# definimos la funcion para uni=t*H_{0}\n",
    "\n",
    "def universe(a, omegaM, omegaR, omegaL, omegaC):\n",
    "    omega = omegaM + omegaR + omegaL+ omegaC\n",
    "    uni =1./np.sqrt( (omegaR/(a**2.)) + omegaM/a + omegaL*(a**2.) + omegaC) \n",
    "    return uni"
   ]
  },
  {
   "cell_type": "markdown",
   "id": "920e3647",
   "metadata": {},
   "source": [
    "## Lambda Class y No Class para diferentes $\\Omega_{c}$"
   ]
  },
  {
   "cell_type": "code",
   "execution_count": 7,
   "id": "e75a1365",
   "metadata": {},
   "outputs": [
    {
     "name": "stdout",
     "output_type": "stream",
     "text": [
      "Lambda: 0.6999090385434282 Matter:  0.30009096145657177 Omega_k:  0.0\n",
      "Lambda: 0.2999090385434282 Matter:  0.30009096145657177 Omega_k:  0.4\n",
      "Lambda: -0.30009096145657166 Matter:  0.30009096145657166 Omega_k:  1\n"
     ]
    },
    {
     "data": {
      "image/png": "[encoded data removed]",
      "text/plain": [
       "<Figure size 432x288 with 1 Axes>"
      ]
     },
     "metadata": {
      "needs_background": "light"
     },
     "output_type": "display_data"
    }
   ],
   "source": [
    "darkcurvature = [0.0,0.4,1] # distintos valores para Omega_{c}\n",
    "\n",
    "for k in darkcurvature: \n",
    "    \n",
    "    NOSteps = 3000\n",
    "    begin = 1.e-5\n",
    "    end = 1\n",
    "    StepSize = (end - begin) / NOSteps\n",
    "    at = np.arange(begin, end + StepSize, StepSize) \n",
    "    concordance_time = [0] \n",
    "    concordance_partresult = 0\n",
    "    \n",
    "\n",
    "    LCDM = Class()\n",
    "    LCDM.set({'Omega_cfld':k,'Omega_cdm':0.25,'Omega_b': 0.05})\n",
    "    LCDM.compute()\n",
    "    \n",
    "    derived = LCDM.get_current_derived_parameters(['Omega0_lambda'])\n",
    "    print('Lambda:', derived[\"Omega0_lambda\"],'Matter: ', 1-(derived[\"Omega0_lambda\"]+k),'Omega_k: ',k)\n",
    "\n",
    "    baLCDM = LCDM.get_background() # Obtenemos los valores del background para CDM\n",
    "\n",
    "    c = []\n",
    "    d = baLCDM['z']\n",
    "\n",
    "    for i in range(0,3000): \n",
    "        c.append(1/(baLCDM['z'][i]+1))\n",
    "    \n",
    "    for i in range(1, NOSteps+1):\n",
    "        concordance_y0 = universe(at[i], 0.30009096145657177, 0.0, derived[\"Omega0_lambda\"], k)\n",
    "        concordance_y1 = universe(at[i-1], 0.30009096145657177, 0.0, derived[\"Omega0_lambda\"], k)\n",
    "        concordance_partresult += StepSize * (concordance_y0 + concordance_y1)/2. \n",
    "        concordance_time.append(concordance_partresult / H0)\n",
    "    \n",
    "    #print('Lambda=',1-(k+0.31214877038733924))\n",
    "    plt.plot(concordance_time, at, 'red', '.') \n",
    "\n",
    "\n",
    "    plt.plot(baLCDM['proper time [Gyr]'],c, 'blue')\n",
    "\n",
    "\n",
    "plt.title('Universe Models using Trapezoidal Rule and Class')\n",
    "plt.xlabel('t (Gyr)')\n",
    "plt.ylabel('a(t)') \n",
    "plt.legend(['Trapezoidal Rule','Class'])\n",
    "#plt.legend(['Concordance','Loitering','EdS','Lambda Collapse']) \n",
    "plt.grid(True)\n",
    "plt.show()"
   ]
  }
 ],
 "metadata": {
  "kernelspec": {
   "display_name": "Python 3 (ipykernel)",
   "language": "python",
   "name": "python3"
  },
  "language_info": {
   "codemirror_mode": {
    "name": "ipython",
    "version": 3
   },
   "file_extension": ".py",
   "mimetype": "text/x-python",
   "name": "python",
   "nbconvert_exporter": "python",
   "pygments_lexer": "ipython3",
   "version": "3.8.2"
  }
 },
 "nbformat": 4,
 "nbformat_minor": 5
}
